{
 "cells": [
  {
   "cell_type": "code",
   "execution_count": 1,
   "id": "64b4e6dc-5820-4519-b628-1d811c9f92ff",
   "metadata": {
    "tags": []
   },
   "outputs": [],
   "source": [
    "import pandas as pd\n",
    "from collections import Counter"
   ]
  },
  {
   "cell_type": "code",
   "execution_count": null,
   "id": "60e35e98-265f-4edf-8b3a-199598f19350",
   "metadata": {
    "tags": []
   },
   "outputs": [],
   "source": [
    "df = pd.read_csv(r\"C:\\Users\\maula\\Documents\\Data Analytics\\PROJECTS\\TOKPED - TENUE\\NeedColor.csv\")\n",
    "df"
   ]
  },
  {
   "cell_type": "code",
   "execution_count": null,
   "id": "500794cd-26e8-462b-a5bc-0c81ff4a00bd",
   "metadata": {
    "tags": []
   },
   "outputs": [],
   "source": [
    "df['MainColor'] = df['ProductName'].str.extract('(Navy|White|Black|Grey|Blue|Brown|Green|Olive|Red|Cream|Mustard|Maroon|Khaki|Yellow|Orange|Sage|Terracotta|Charcoal|Mocca|Sand|Turquoise|Salmon|Mint|Burgundy|Tosca|Bronze|Nude|Caramel|Indigo|Brick|Gold|OIive|Turqoise|Army)')\n",
    "df\n",
    "df.to_csv('TenueCompleted.csv')"
   ]
  },
  {
   "cell_type": "code",
   "execution_count": 20,
   "id": "0e56d454-db3e-44cc-8579-39cb05ec6d9a",
   "metadata": {
    "tags": []
   },
   "outputs": [],
   "source": [
    "df.to_csv('TenueCompleted.csv')"
   ]
  }
 ],
 "metadata": {
  "kernelspec": {
   "display_name": "Python 3 (ipykernel)",
   "language": "python",
   "name": "python3"
  },
  "language_info": {
   "codemirror_mode": {
    "name": "ipython",
    "version": 3
   },
   "file_extension": ".py",
   "mimetype": "text/x-python",
   "name": "python",
   "nbconvert_exporter": "python",
   "pygments_lexer": "ipython3",
   "version": "3.11.4"
  }
 },
 "nbformat": 4,
 "nbformat_minor": 5
}
