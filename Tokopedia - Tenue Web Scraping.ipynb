{
 "cells": [
  {
   "cell_type": "code",
   "execution_count": 1,
   "id": "62eedce1-6d8f-4ad6-9a34-2c4129f1f34d",
   "metadata": {
    "tags": []
   },
   "outputs": [],
   "source": [
    "import time\n",
    "from selenium import webdriver\n",
    "from selenium.webdriver.support import expected_conditions as EC\n",
    "from selenium.webdriver.support.ui import WebDriverWait\n",
    "from selenium.webdriver.common.by import By\n",
    "from bs4 import BeautifulSoup\n",
    "import pandas as pd"
   ]
  },
  {
   "cell_type": "code",
   "execution_count": null,
   "id": "786787ea-22d9-4abc-b4ad-1e5b7732c239",
   "metadata": {
    "tags": []
   },
   "outputs": [],
   "source": [
    "url = 'https://www.tokopedia.com/tenuedeattire/product/page/19?sort=8'\n",
    "driver = webdriver.Chrome()\n",
    "driver.get(url)\n",
    "\n",
    "WebDriverWait(driver,5).until(EC.presence_of_element_located((By.CSS_SELECTOR, '#zeus-root')))\n",
    "time.sleep(2)\n",
    "\n",
    "for i in range(20):\n",
    "    driver.execute_script('window.scrollBy(0,250)')\n",
    "    time.sleep(0.5)\n",
    "\n",
    "soup = BeautifulSoup(driver.page_source, 'html.parser')\n",
    "print(soup)\n",
    "\n",
    "driver.close()"
   ]
  },
  {
   "cell_type": "code",
   "execution_count": null,
   "id": "c3abd180-6f09-4392-90c6-5d0b99670018",
   "metadata": {
    "tags": []
   },
   "outputs": [],
   "source": [
    "data = []\n",
    "for item in soup.findAll('div', class_='css-974ipl'):\n",
    "    ProductName = item.find('div', class_='prd_link-product-name css-3um8ox').text\n",
    "    ProductPrice = item.find('div', class_='prd_link-product-price css-1ksb19c').text\n",
    "    Dsc = item.findAll('div', class_='prd_badge-product-discount css-1qtulwh')\n",
    "    if len(Dsc) > 0:\n",
    "        Discount = item.find('div', class_='prd_badge-product-discount css-1qtulwh').text\n",
    "    else:\n",
    "        Discount = ''\n",
    "    OrP = item.findAll('div', class_='prd_label-product-slash-price css-1u1z2kp')\n",
    "    if len(Dsc) > 0:\n",
    "        OriginalPrice = item.find('div', class_='prd_label-product-slash-price css-1u1z2kp').text\n",
    "    else:\n",
    "        OriginalPrice = ''\n",
    "    Sold = item.findAll('span', class_='prd_label-integrity css-1duhs3e')\n",
    "    if len(Sold) > 0:\n",
    "        ItemsSold = item.find('span', class_='prd_label-integrity css-1duhs3e').text\n",
    "    else:\n",
    "        ItemsSold = 0        \n",
    "    Rtg = item.findAll('span', class_='prd_rating-average-text css-t70v7i')\n",
    "    if len(Rtg) > 0:\n",
    "        Rating = item.find('span', class_='prd_rating-average-text css-t70v7i').text\n",
    "    else:\n",
    "        Rating = ''\n",
    "    \n",
    "    data.append(\n",
    "        (ProductName, ProductPrice, Discount, OriginalPrice, ItemsSold, Rating)\n",
    "    )\n",
    "\n",
    "df=pd.DataFrame(data, columns = ['ProductName', 'ProductPrice', 'Discount', 'OriginalPrice', 'ItemsSold', 'Rating'])\n",
    "print(df)\n",
    "df.to_csv('Tenue_19.csv')"
   ]
  },
  {
   "cell_type": "code",
   "execution_count": 46,
   "id": "cbf689b0-913c-4dca-ae32-5a396e7f00f7",
   "metadata": {
    "tags": []
   },
   "outputs": [],
   "source": []
  },
  {
   "cell_type": "code",
   "execution_count": null,
   "id": "49466bf2-14ba-4688-97d0-91339a9bd56c",
   "metadata": {
    "tags": []
   },
   "outputs": [],
   "source": []
  }
 ],
 "metadata": {
  "kernelspec": {
   "display_name": "Python 3 (ipykernel)",
   "language": "python",
   "name": "python3"
  },
  "language_info": {
   "codemirror_mode": {
    "name": "ipython",
    "version": 3
   },
   "file_extension": ".py",
   "mimetype": "text/x-python",
   "name": "python",
   "nbconvert_exporter": "python",
   "pygments_lexer": "ipython3",
   "version": "3.11.4"
  }
 },
 "nbformat": 4,
 "nbformat_minor": 5
}
