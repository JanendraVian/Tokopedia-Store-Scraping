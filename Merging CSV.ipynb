{
 "cells": [
  {
   "cell_type": "code",
   "execution_count": 8,
   "id": "a0c7034f-6b7b-4f65-b32e-6f311ebbf5ae",
   "metadata": {
    "tags": []
   },
   "outputs": [],
   "source": [
    "import os\n",
    "import pandas as pd\n",
    "from collections import Counter"
   ]
  },
  {
   "cell_type": "code",
   "execution_count": 2,
   "id": "c0aa4e76-f971-4a07-9aed-b53fb8d7caf5",
   "metadata": {
    "tags": []
   },
   "outputs": [],
   "source": [
    "master_df = pd.DataFrame()"
   ]
  },
  {
   "cell_type": "code",
   "execution_count": null,
   "id": "d94bbc35-3d5b-4cb1-9fd8-f4a2b926e735",
   "metadata": {
    "tags": []
   },
   "outputs": [],
   "source": [
    "for file in os.listdir(os.getcwd()):\n",
    "    if file.endswith('.csv'):\n",
    "        master_df = master_df.append(pd.read_csv(file))\n",
    "        \n",
    "master_df.to_csv('TenueAll.csv', index=False)"
   ]
  },
  {
   "cell_type": "code",
   "execution_count": null,
   "id": "162fa4c2-d45d-4950-8c2a-1fe2739b6815",
   "metadata": {
    "tags": []
   },
   "outputs": [],
   "source": [
    "DataFrame = pd.read_excel(r\"C:\\Users\\maula\\Documents\\Data Analytics\\PROJECTS\\TOKPED - TENUE\\TenueAll.xlsx\")"
   ]
  },
  {
   "cell_type": "code",
   "execution_count": 21,
   "id": "3486eb5e-6872-4036-b52d-f7ff2aca595f",
   "metadata": {
    "tags": []
   },
   "outputs": [],
   "source": [
    "words = pd.Series(' '.join(df['StringColor']).split()).value_counts()\n",
    "words.to_csv('Tenue Words.csv')"
   ]
  },
  {
   "cell_type": "code",
   "execution_count": null,
   "id": "e1a55ef6-bb2c-4958-af0c-d2512f20a970",
   "metadata": {
    "tags": []
   },
   "outputs": [],
   "source": [
    "n = 100\n",
    "DataFrame['StringColor'].value_counts()[:n].index.tolist()"
   ]
  },
  {
   "cell_type": "code",
   "execution_count": 30,
   "id": "30506dbf-572f-49c9-8cb2-3eb4f3a9bf8c",
   "metadata": {
    "tags": []
   },
   "outputs": [],
   "source": [
    "df.to_csv('TenueNew.csv')"
   ]
  }
 ],
 "metadata": {
  "kernelspec": {
   "display_name": "Python 3 (ipykernel)",
   "language": "python",
   "name": "python3"
  },
  "language_info": {
   "codemirror_mode": {
    "name": "ipython",
    "version": 3
   },
   "file_extension": ".py",
   "mimetype": "text/x-python",
   "name": "python",
   "nbconvert_exporter": "python",
   "pygments_lexer": "ipython3",
   "version": "3.11.4"
  }
 },
 "nbformat": 4,
 "nbformat_minor": 5
}
